{
 "cells": [
  {
   "attachments": {},
   "cell_type": "markdown",
   "metadata": {},
   "source": [
    "# Libraries"
   ]
  },
  {
   "cell_type": "code",
   "execution_count": 51,
   "metadata": {},
   "outputs": [
    {
     "name": "stderr",
     "output_type": "stream",
     "text": [
      "[nltk_data] Downloading package punkt to\n",
      "[nltk_data]     C:\\Users\\pc\\AppData\\Roaming\\nltk_data...\n",
      "[nltk_data]   Package punkt is already up-to-date!\n"
     ]
    },
    {
     "data": {
      "text/plain": [
       "True"
      ]
     },
     "execution_count": 51,
     "metadata": {},
     "output_type": "execute_result"
    }
   ],
   "source": [
    "import numpy as np \n",
    "import os\n",
    "import re \n",
    "import nltk\n",
    "from nltk.tokenize import word_tokenize\n",
    "from nltk.stem import PorterStemmer # Radicalisation \n",
    "from collections import Counter\n",
    "nltk.download('punkt')"
   ]
  },
  {
   "attachments": {},
   "cell_type": "markdown",
   "metadata": {},
   "source": [
    "# Functions"
   ]
  },
  {
   "cell_type": "code",
   "execution_count": 52,
   "metadata": {},
   "outputs": [],
   "source": [
    "def replace(text,regex,replace_with):\n",
    "    tmp = re.compile(regex)\n",
    "    replaced_text = tmp.sub(replace_with, text)\n",
    "    return replaced_text "
   ]
  },
  {
   "cell_type": "code",
   "execution_count": 53,
   "metadata": {},
   "outputs": [],
   "source": [
    "def replace_urls(text, replace_with=\"httpaddr\"):\n",
    "    return replace(text,r\"https?://\\S+|www\\.\\S+\",replace_with)\n",
    "    \n",
    "def replace_emails(text, replace_with=\"emailaddr\"):\n",
    "    return replace(text,r\"\\S+@\\S+\",replace_with)\n",
    "\n",
    "def replace_numbers(text, replace_with=\"number\"):\n",
    "    return replace(text,r\"\\d+\",replace_with)\n",
    "\n",
    "def replace_money(text):\n",
    "    return text.replace(\"$\", \" dollar\").replace(\"€\", \" euro\").replace(\"£\", \" pound\")\n",
    "\n",
    "def replace_phone_numbers(text, replace_with=\"phonenumber\"):\n",
    "    return replace(text,r'\\+\\d+',replace_with)\n",
    "\n",
    "def remove_html_tags(text,replace_with=\"\"):\n",
    "    return replace(text,r'<.*?>',replace_with)\n",
    "\n",
    "def word_stemming(text):\n",
    "    stemmer = PorterStemmer()\n",
    "    words = nltk.word_tokenize(text)  # Tokenisation\n",
    "    stemmed_words = [stemmer.stem(word) for word in words] # Radicalisation\n",
    "    stemmed_text = ' '.join(stemmed_words) # Rebuild the text\n",
    "    return stemmed_text\n",
    "\n",
    "def remove_punctuation(text, replace_with=\"\"):\n",
    "    return replace(text,r'[^\\w\\s]',replace_with)\n",
    "\n",
    "def remove_spaces(text, replace_with=\" \"):\n",
    "    return replace(text,r'\\s+',replace_with)"
   ]
  },
  {
   "cell_type": "code",
   "execution_count": 54,
   "metadata": {},
   "outputs": [],
   "source": [
    "def normalize(data):\n",
    "    if isinstance(data, str):  # handle single string input\n",
    "        data = [data]\n",
    "    processed_data = []\n",
    "    for string in data:\n",
    "        string = string.lower()\n",
    "        string = replace_urls(string)\n",
    "        string = replace_emails(string)\n",
    "        string = replace_numbers(string)\n",
    "        string = replace_money(string)\n",
    "        string = replace_phone_numbers(string)\n",
    "        string = remove_html_tags(string)\n",
    "        string = word_stemming(string)\n",
    "        string = remove_punctuation(string)\n",
    "        string = remove_spaces(string)\n",
    "        processed_data.append(string)\n",
    "\n",
    "    if isinstance(data, str):  # handle single string input\n",
    "        return processed_data[0]\n",
    "    else:                      # handle iterable input\n",
    "        return processed_data\n"
   ]
  },
  {
   "attachments": {},
   "cell_type": "markdown",
   "metadata": {},
   "source": [
    "# Test with An Email \n"
   ]
  },
  {
   "cell_type": "code",
   "execution_count": 55,
   "metadata": {},
   "outputs": [],
   "source": [
    "email_test_path = \"email_test.txt\"\n",
    "email =  open(email_test_path, \"r\").read()"
   ]
  },
  {
   "attachments": {},
   "cell_type": "markdown",
   "metadata": {},
   "source": [
    "# Before (Pre-processing)"
   ]
  },
  {
   "cell_type": "code",
   "execution_count": 56,
   "metadata": {},
   "outputs": [
    {
     "name": "stdout",
     "output_type": "stream",
     "text": [
      "> Anyone knows how much it costs to host a web portal ?\n",
      "\n",
      ">\n",
      "\n",
      "Well, it depends on how many visitors youre expecting. This can be\n",
      "anywhere from less than 10 bucks a month to a couple of $100. You\n",
      "should checkout http://www.rackspace.com/ or perhaps Amazon EC2 if\n",
      "youre running something big..\n",
      "\n",
      "To unsubscribe yourself from this mailing list, send an email to:\n",
      "groupname-unsubscribe@egroups.com\n"
     ]
    }
   ],
   "source": [
    "print(email)"
   ]
  },
  {
   "attachments": {},
   "cell_type": "markdown",
   "metadata": {},
   "source": [
    "After (Pre-processing)"
   ]
  },
  {
   "cell_type": "code",
   "execution_count": 57,
   "metadata": {},
   "outputs": [
    {
     "name": "stdout",
     "output_type": "stream",
     "text": [
      "[' anyon know how much it cost to host a web portal well it depend on how mani visitor your expect thi can be anywher from less than number buck a month to a coupl of dollarnumb you should checkout httpaddr or perhap amazon ecnumb if your run someth big to unsubscrib yourself from thi mail list send an email to emailaddr']\n"
     ]
    }
   ],
   "source": [
    "print(normalize(email))"
   ]
  },
  {
   "attachments": {},
   "cell_type": "markdown",
   "metadata": {},
   "source": [
    "# Load files (emails)"
   ]
  },
  {
   "cell_type": "code",
   "execution_count": 58,
   "metadata": {},
   "outputs": [],
   "source": [
    "directories = {\n",
    "    \"easy_ham_dir\" : \"./data/easy_ham/\",\n",
    "    \"hard_ham_dir\" : \"./data/hard_ham/\",\n",
    "    \"spam_2_dir\"   : \"./data/spam_2/\"\n",
    "}\n",
    "\n",
    "files_names = {}\n",
    "\n",
    "# For each directory, load the file names and add them to the dictionary\n",
    "for key, path in directories.items():\n",
    "    files_names[key] = os.listdir(path)\n",
    "\n",
    "# Load the contents of each file in each directory into a NumPy array\n",
    "contents = {}\n",
    "for key, path in directories.items():\n",
    "    contents[key] = np.array([open(path + file_name, \"r\", encoding=\"latin-1\").read() for file_name in files_names[key]])\n"
   ]
  },
  {
   "cell_type": "code",
   "execution_count": 59,
   "metadata": {},
   "outputs": [
    {
     "name": "stdout",
     "output_type": "stream",
     "text": [
      "From exmh-workers-admin@redhat.com  Thu Aug 22 12:36:23 2002\n",
      "Return-Path: <exmh-workers-admin@example.com>\n",
      "Delivered-To: zzzz@localhost.netnoteinc.com\n",
      "Received: from localhost (localhost [127.0.0.1])\n",
      "\tby phobos.labs.netnoteinc.com (Postfix) with ESMTP id D03E543C36\n",
      "\tfor <zzzz@localhost>; Thu, 22 Aug 2002 07:36:16 -0400 (EDT)\n",
      "Received: from phobos [127.0.0.1]\n",
      "\tby localhost with IMAP (fetchmail-5.9.0)\n",
      "\tfor zzzz@localhost (single-drop); Thu, 22 Aug 2002 12:36:16 +0100 (IST)\n",
      "Received: from listman.example.com (listman.example.com [66.187.233.211]) by\n",
      "    dogma.slashnull.org (8.11.6/8.11.6) with ESMTP id g7MBYrZ04811 for\n",
      "    <zzzz-exmh@example.com>; Thu, 22 Aug 2002 12:34:53 +0100\n",
      "Received: from listman.example.com (localhost.localdomain [127.0.0.1]) by\n",
      "    listman.redhat.com (Postfix) with ESMTP id 8386540858; Thu, 22 Aug 2002\n",
      "    07:35:02 -0400 (EDT)\n",
      "Delivered-To: exmh-workers@listman.example.com\n",
      "Received: from int-mx1.corp.example.com (int-mx1.corp.example.com\n",
      "    [172.16.52.254]) by listman.redhat.com (Postfix) with ESMTP id 10CF8406D7\n",
      "    for <exmh-workers@listman.redhat.com>; Thu, 22 Aug 2002 07:34:10 -0400\n",
      "    (EDT)\n",
      "Received: (from mail@localhost) by int-mx1.corp.example.com (8.11.6/8.11.6)\n",
      "    id g7MBY7g11259 for exmh-workers@listman.redhat.com; Thu, 22 Aug 2002\n",
      "    07:34:07 -0400\n",
      "Received: from mx1.example.com (mx1.example.com [172.16.48.31]) by\n",
      "    int-mx1.corp.redhat.com (8.11.6/8.11.6) with SMTP id g7MBY7Y11255 for\n",
      "    <exmh-workers@redhat.com>; Thu, 22 Aug 2002 07:34:07 -0400\n",
      "Received: from ratree.psu.ac.th ([202.28.97.6]) by mx1.example.com\n",
      "    (8.11.6/8.11.6) with SMTP id g7MBIhl25223 for <exmh-workers@redhat.com>;\n",
      "    Thu, 22 Aug 2002 07:18:55 -0400\n",
      "Received: from delta.cs.mu.OZ.AU (delta.coe.psu.ac.th [172.30.0.98]) by\n",
      "    ratree.psu.ac.th (8.11.6/8.11.6) with ESMTP id g7MBWel29762;\n",
      "    Thu, 22 Aug 2002 18:32:40 +0700 (ICT)\n",
      "Received: from munnari.OZ.AU (localhost [127.0.0.1]) by delta.cs.mu.OZ.AU\n",
      "    (8.11.6/8.11.6) with ESMTP id g7MBQPW13260; Thu, 22 Aug 2002 18:26:25\n",
      "    +0700 (ICT)\n",
      "From: Robert Elz <kre@munnari.OZ.AU>\n",
      "To: Chris Garrigues <cwg-dated-1030377287.06fa6d@DeepEddy.Com>\n",
      "Cc: exmh-workers@example.com\n",
      "Subject: Re: New Sequences Window\n",
      "In-Reply-To: <1029945287.4797.TMDA@deepeddy.vircio.com>\n",
      "References: <1029945287.4797.TMDA@deepeddy.vircio.com>\n",
      "    <1029882468.3116.TMDA@deepeddy.vircio.com> <9627.1029933001@munnari.OZ.AU>\n",
      "    <1029943066.26919.TMDA@deepeddy.vircio.com>\n",
      "    <1029944441.398.TMDA@deepeddy.vircio.com>\n",
      "MIME-Version: 1.0\n",
      "Content-Type: text/plain; charset=us-ascii\n",
      "Message-Id: <13258.1030015585@munnari.OZ.AU>\n",
      "X-Loop: exmh-workers@example.com\n",
      "Sender: exmh-workers-admin@example.com\n",
      "Errors-To: exmh-workers-admin@example.com\n",
      "X-Beenthere: exmh-workers@example.com\n",
      "X-Mailman-Version: 2.0.1\n",
      "Precedence: bulk\n",
      "List-Help: <mailto:exmh-workers-request@example.com?subject=help>\n",
      "List-Post: <mailto:exmh-workers@example.com>\n",
      "List-Subscribe: <https://listman.example.com/mailman/listinfo/exmh-workers>,\n",
      "    <mailto:exmh-workers-request@redhat.com?subject=subscribe>\n",
      "List-Id: Discussion list for EXMH developers <exmh-workers.example.com>\n",
      "List-Unsubscribe: <https://listman.example.com/mailman/listinfo/exmh-workers>,\n",
      "    <mailto:exmh-workers-request@redhat.com?subject=unsubscribe>\n",
      "List-Archive: <https://listman.example.com/mailman/private/exmh-workers/>\n",
      "Date: Thu, 22 Aug 2002 18:26:25 +0700\n",
      "\n",
      "    Date:        Wed, 21 Aug 2002 10:54:46 -0500\n",
      "    From:        Chris Garrigues <cwg-dated-1030377287.06fa6d@DeepEddy.Com>\n",
      "    Message-ID:  <1029945287.4797.TMDA@deepeddy.vircio.com>\n",
      "\n",
      "\n",
      "  | I can't reproduce this error.\n",
      "\n",
      "For me it is very repeatable... (like every time, without fail).\n",
      "\n",
      "This is the debug log of the pick happening ...\n",
      "\n",
      "18:19:03 Pick_It {exec pick +inbox -list -lbrace -lbrace -subject ftp -rbrace -rbrace} {4852-4852 -sequence mercury}\n",
      "18:19:03 exec pick +inbox -list -lbrace -lbrace -subject ftp -rbrace -rbrace 4852-4852 -sequence mercury\n",
      "18:19:04 Ftoc_PickMsgs {{1 hit}}\n",
      "18:19:04 Marking 1 hits\n",
      "18:19:04 tkerror: syntax error in expression \"int ...\n",
      "\n",
      "Note, if I run the pick command by hand ...\n",
      "\n",
      "delta$ pick +inbox -list -lbrace -lbrace -subject ftp -rbrace -rbrace  4852-4852 -sequence mercury\n",
      "1 hit\n",
      "\n",
      "That's where the \"1 hit\" comes from (obviously).  The version of nmh I'm\n",
      "using is ...\n",
      "\n",
      "delta$ pick -version\n",
      "pick -- nmh-1.0.4 [compiled on fuchsia.cs.mu.OZ.AU at Sun Mar 17 14:55:56 ICT 2002]\n",
      "\n",
      "And the relevant part of my .mh_profile ...\n",
      "\n",
      "delta$ mhparam pick\n",
      "-seq sel -list\n",
      "\n",
      "\n",
      "Since the pick command works, the sequence (actually, both of them, the\n",
      "one that's explicit on the command line, from the search popup, and the\n",
      "one that comes from .mh_profile) do get created.\n",
      "\n",
      "kre\n",
      "\n",
      "ps: this is still using the version of the code form a day ago, I haven't\n",
      "been able to reach the cvs repository today (local routing issue I think).\n",
      "\n",
      "\n",
      "\n",
      "_______________________________________________\n",
      "Exmh-workers mailing list\n",
      "Exmh-workers@redhat.com\n",
      "https://listman.redhat.com/mailman/listinfo/exmh-workers\n",
      "\n",
      "\n"
     ]
    }
   ],
   "source": [
    "print(contents[\"easy_ham_dir\"][0]) "
   ]
  },
  {
   "attachments": {},
   "cell_type": "markdown",
   "metadata": {},
   "source": [
    "# Data pre-processing\n"
   ]
  },
  {
   "cell_type": "code",
   "execution_count": 60,
   "metadata": {},
   "outputs": [],
   "source": [
    "normalized_content =  {}\n",
    "# Normalize the contents of each file (all 3 directories are stored in contents)\n",
    "for key, content in contents.items():\n",
    "    normalized_content[key] = normalize(content)"
   ]
  },
  {
   "cell_type": "code",
   "execution_count": 61,
   "metadata": {},
   "outputs": [
    {
     "name": "stdout",
     "output_type": "stream",
     "text": [
      "from emailaddr thu aug number number number number number returnpath emailaddr deliveredto emailaddr receiv from localhost localhost numbernumbernumbernumb by phoboslabsnetnoteinccom postfix with esmtp id dnumberenumbercnumb for emailaddr thu number aug number number number number number edt receiv from phobo numbernumbernumbernumb by localhost with imap fetchmailnumbernumbernumb for emailaddr singledrop thu number aug number number number number number ist receiv from listmanexamplecom listmanexamplecom numbernumbernumbernumb by dogmaslashnullorg numbernumbernumbernumbernumbernumb with esmtp id gnumbermbyrznumb for emailaddr thu number aug number number number number number receiv from listmanexamplecom localhostlocaldomain numbernumbernumbernumb by listmanredhatcom postfix with esmtp id number thu number aug number number number number number edt deliveredto emailaddr receiv from intmxnumbercorpexamplecom intmxnumbercorpexamplecom numbernumbernumbernumb by listmanredhatcom postfix with esmtp id numbercfnumberdnumb for emailaddr thu number aug number number number number number edt receiv from emailaddr by intmxnumbercorpexamplecom numbernumbernumbernumbernumbernumb id gnumbermbynumbergnumb for emailaddr thu number aug number number number number number receiv from mxnumberexamplecom mxnumberexamplecom numbernumbernumbernumb by intmxnumbercorpredhatcom numbernumbernumbernumbernumbernumb with smtp id gnumbermbynumberynumb for emailaddr thu number aug number number number number number receiv from ratreepsuacth numbernumbernumbernumb by mxnumberexamplecom numbernumbernumbernumbernumbernumb with smtp id gnumbermbihlnumb for emailaddr thu number aug number number number number number receiv from deltacsmuozau deltacoepsuacth numbernumbernumbernumb by ratreepsuacth numbernumbernumbernumbernumbernumb with esmtp id gnumbermbwelnumb thu number aug number number number number number ict receiv from munnariozau localhost numbernumbernumbernumb by deltacsmuozau numbernumbernumbernumbernumbernumb with esmtp id gnumbermbqpwnumb thu number aug number number number number number ict from robert elz emailaddr to chri garrigu emailaddr cc emailaddr subject re new sequenc window inreplyto emailaddr refer emailaddr emailaddr emailaddr emailaddr emailaddr mimevers numbernumb contenttyp textplain charsetusascii messageid emailaddr xloop emailaddr sender emailaddr errorsto emailaddr xbeenther emailaddr xmailmanvers numbernumbernumb preced bulk listhelp emailaddr listpost emailaddr listsubscrib httpaddr emailaddr listid discuss list for exmh develop listunsubscrib httpaddr emailaddr listarch httpaddr date thu number aug number number number number number date wed number aug number number number number number from chri garrigu emailaddr messageid emailaddr i ca nt reproduc thi error for me it is veri repeat like everi time without fail thi is the debug log of the pick happen number number number pick_it exec pick inbox list lbrace lbrace subject ftp rbrace rbrace numbernumb sequenc mercuri number number number exec pick inbox list lbrace lbrace subject ftp rbrace rbrace numbernumb sequenc mercuri number number number ftoc_pickmsg number hit number number number mark number hit number number number tkerror syntax error in express int note if i run the pick command by hand delta dollar pick inbox list lbrace lbrace subject ftp rbrace rbrace numbernumb sequenc mercuri number hit that s where the number hit come from obvious the version of nmh im use is delta dollar pick version pick nmhnumbernumbernumb compil on fuchsiacsmuozau at sun mar number number number number ict number and the relev part of my mh_profil delta dollar mhparam pick seq sel list sinc the pick command work the sequenc actual both of them the one that s explicit on the command line from the search popup and the one that come from mh_profil do get creat kre ps thi is still use the version of the code form a day ago i havent been abl to reach the cv repositori today local rout issu i think _______________________________________________ exmhwork mail list emailaddr httpaddr\n"
     ]
    }
   ],
   "source": [
    "print(normalized_content[\"easy_ham_dir\"][0]) # Print the first email of the spam_2_dir directory after normalization"
   ]
  },
  {
   "attachments": {},
   "cell_type": "markdown",
   "metadata": {},
   "source": [
    "# Vocabulaire\n"
   ]
  },
  {
   "cell_type": "code",
   "execution_count": 62,
   "metadata": {},
   "outputs": [],
   "source": [
    "def build_vocab(spam_dir, k=10):\n",
    "    # Initialisation du compteur de mots\n",
    "    word_counter = Counter()\n",
    "\n",
    "    # Parcours des e-mails dans le répertoire\n",
    "    for content in normalized_content[spam_dir]:\n",
    "        # Tokenisation du contenu de l'e-mail en mots\n",
    "        words = nltk.word_tokenize(content)\n",
    "\n",
    "        # Mise à jour du compteur de mots\n",
    "        word_counter.update(words)\n",
    "\n",
    "    vocab_words = []\n",
    "    for word, count in word_counter.items():\n",
    "        if count >= k:\n",
    "            vocab_words.append(word)\n",
    "\n",
    "    # Sauvegarde de la liste de vocabulaire dans un fichier\n",
    "    with open(\"vocab.txt\", \"w\") as f:\n",
    "        for word in vocab_words:\n",
    "            f.write(word + \"\\n\")"
   ]
  },
  {
   "cell_type": "code",
   "execution_count": 63,
   "metadata": {},
   "outputs": [],
   "source": [
    "build_vocab(\"spam_2_dir\", k=10)"
   ]
  },
  {
   "cell_type": "code",
   "execution_count": 64,
   "metadata": {},
   "outputs": [],
   "source": [
    "def map_words_to_indices(words, vocab):\n",
    "    indices = []\n",
    "    for word in words:\n",
    "        if word in vocab:\n",
    "            indices.append(vocab.index(word))\n",
    "    return indices"
   ]
  },
  {
   "cell_type": "code",
   "execution_count": 65,
   "metadata": {},
   "outputs": [],
   "source": [
    "def load_vocab():\n",
    "    with open('vocab.txt', 'r') as f:\n",
    "        vocab_words = [line.strip() for line in f]\n",
    "    return vocab_words"
   ]
  },
  {
   "cell_type": "code",
   "execution_count": 66,
   "metadata": {},
   "outputs": [
    {
     "name": "stdout",
     "output_type": "stream",
     "text": [
      "easy_ham_dir\n",
      "hard_ham_dir\n",
      "spam_2_dir\n",
      "[0, 1, 2, 3, 4, 4, 4, 4, 4, 5, 1, 6, 1, 7, 0, 8, 8, 9, 10, 11, 12, 13, 14, 15, 16, 1, 2, 4, 3, 4, 4, 4, 4, 4, 17, 7, 0, 18, 9, 10, 8, 13, 19, 20, 16, 1, 21, 2, 4, 3, 4, 4, 4, 4, 4, 22, 7, 0, 23, 1, 9, 10, 24, 25, 13, 14, 15, 16, 1, 26, 4, 3, 4, 4, 4, 4, 4, 7, 0, 27, 1, 9, 10, 23, 25, 13, 14, 15, 28, 26, 4, 3, 4, 4, 4, 4, 4, 7, 0, 9, 10, 23, 25, 13, 14, 15, 28, 16, 1, 26, 4, 3, 4, 4, 4, 4, 4, 29, 23, 30, 9, 31, 32, 33, 7, 0, 9, 9, 10, 34, 35, 15, 26, 4, 3, 4, 4, 4, 4, 4, 36, 1, 37, 26, 4, 3, 4, 4, 4, 4, 4, 32, 1, 0, 38, 39, 1, 40, 41, 42, 43, 44, 45, 46, 47, 48, 49, 50, 51, 52, 53, 1, 54, 1, 55, 41, 56, 57, 58, 59, 60, 61, 62, 63, 1, 64, 65, 66, 7, 67, 68, 69, 65, 70, 71, 72, 73, 74, 7, 75, 76, 77, 78, 79, 80, 67, 81, 82, 83, 84, 85, 86, 87, 88, 67, 81, 89, 90, 91, 92, 93, 94, 81, 95, 80, 65, 96, 97, 98, 99, 10, 100, 101, 51, 82, 83, 102, 67, 68, 103, 104, 33, 50, 86, 105, 106, 107, 108, 109, 110, 74, 111, 112, 100, 101, 81, 89, 113, 114, 16, 86, 115, 51, 108, 116, 32, 117, 118, 103, 119, 16, 50, 120, 4, 121, 50, 122, 50, 51, 123, 108, 124, 125, 122, 126, 122, 115, 127, 128, 127, 129, 99, 127, 130, 50, 131, 81, 107, 51, 81, 132, 107, 103, 133, 134, 135, 16, 86, 115, 50, 136, 99, 50, 137, 138, 139, 50, 140, 141, 74, 51, 66, 134, 142, 32, 143, 65, 50, 144, 145, 146, 147, 81, 148, 138, 108, 50, 149, 32, 150, 151, 50, 152, 99, 153, 99, 143, 50, 154, 76, 51, 155, 156, 157, 158, 147, 81, 72, 159, 32, 51, 107, 135, 99, 135, 140, 80, 65, 70, 160, 161, 162, 111, 123, 82, 65, 163, 32, 164, 67, 139, 50, 165, 122, 166, 65, 96, 123, 76, 81, 167, 168, 65, 169, 13, 111, 170, 171, 172, 173, 32, 174, 65, 89, 175, 68, 107, 176, 143, 65, 177, 51, 178, 160, 135, 16, 86, 115, 99, 176, 82, 179, 65, 32, 180, 92, 181, 99, 107, 65, 182, 183, 177, 65, 70, 160, 184, 122, 67, 185, 171, 119, 107, 147, 176, 33, 93, 186, 187, 188, 93, 189, 190, 93, 106, 176, 191, 65, 99, 111, 192, 193, 176, 194, 33, 195, 32, 174, 65, 50, 75, 196, 32, 7, 67, 197, 75, 198, 199, 200, 201, 174, 202, 74, 50, 47, 203, 99, 204, 174, 171, 182, 205, 50, 75, 32, 65, 206, 4, 207, 208, 209, 16, 50, 210, 51, 211, 122, 74, 111, 112, 212, 213, 148, 214, 215, 50, 68, 32, 216, 99, 103, 108, 97, 50, 86, 217, 218, 75, 171, 70, 109, 7, 171, 219, 107, 65, 176, 220, 50, 221, 222, 223, 65, 96, 102, 103, 99, 103, 156, 197, 67, 192, 81, 224, 215, 225, 67, 81, 134, 226, 65, 66, 7, 67, 192, 69, 65, 227, 228, 188, 32, 229, 230, 13, 229, 77, 231, 232, 233, 151, 195, 122, 229, 234, 235, 236, 99, 237, 238, 70, 239, 122, 195, 238, 240, 107, 151, 103, 195, 65, 241, 32, 7, 229, 192, 65, 242, 243, 33, 89, 244, 122, 89, 245, 237, 230, 233, 106, 122, 246, 197, 101, 247, 99, 248, 249, 65, 241, 250, 65, 227, 188, 16, 249, 230, 107, 65, 251, 243, 33, 7, 67, 192, 252, 32, 50, 253, 67, 192, 254, 133, 134, 33, 255, 225, 233, 226, 59, 60, 61, 62, 1, 256, 16, 257, 258, 75, 230, 259, 1]\n"
     ]
    }
   ],
   "source": [
    "for key, content in normalized_content.items():\n",
    "    print(key)\n",
    "    list_indices = []\n",
    "    for email in content:\n",
    "        words = nltk.word_tokenize(email)\n",
    "        vocab = load_vocab()\n",
    "        list_indices.append(map_words_to_indices(words, vocab))\n",
    "print(list_indices[0])"
   ]
  },
  {
   "attachments": {},
   "cell_type": "markdown",
   "metadata": {},
   "source": [
    "# Extract Features :"
   ]
  },
  {
   "cell_type": "code",
   "execution_count": 67,
   "metadata": {},
   "outputs": [],
   "source": [
    "def extract_features(emails, vocab, representation='binary'):\n",
    "    n_emails = len(emails)\n",
    "    n_vocab = len(vocab)\n",
    "    features = np.zeros((n_emails, n_vocab))\n",
    "    for i, email in enumerate(emails):\n",
    "        words = nltk.word_tokenize(email)\n",
    "        if representation == 'binary':\n",
    "            for j, word in enumerate(vocab):\n",
    "                if word in words:\n",
    "                    features[i, j] = 1\n",
    "        elif representation == 'count':\n",
    "            word_counts = Counter(words)\n",
    "            for j, word in enumerate(vocab):\n",
    "                features[i, j] = word_counts[word]\n",
    "    return features"
   ]
  },
  {
   "cell_type": "code",
   "execution_count": 68,
   "metadata": {},
   "outputs": [],
   "source": [
    "# Load vocabulary\n",
    "vocab_list = load_vocab()\n",
    "\n",
    "# Extract features from normalized content with binary representation for each directory\n",
    "binary_features = {}\n",
    "for key, content in normalized_content.items():\n",
    "    binary_features[key] = extract_features(content, vocab_list, representation='binary')\n",
    "\n",
    "# Extract features from normalized content with count representation for each directory\n",
    "count_features = {}\n",
    "for key, content in normalized_content.items():\n",
    "    count_features[key] = extract_features(content, vocab_list, representation='count')\n"
   ]
  },
  {
   "cell_type": "code",
   "execution_count": 69,
   "metadata": {},
   "outputs": [],
   "source": [
    "binary_features_vector = np.concatenate((binary_features[\"easy_ham_dir\"], binary_features[\"hard_ham_dir\"], binary_features[\"spam_2_dir\"]))\n",
    "count_features_vector = np.concatenate((count_features[\"easy_ham_dir\"], count_features[\"hard_ham_dir\"], count_features[\"spam_2_dir\"]))"
   ]
  },
  {
   "attachments": {},
   "cell_type": "markdown",
   "metadata": {},
   "source": [
    "# **Classification**\n"
   ]
  },
  {
   "cell_type": "code",
   "execution_count": 84,
   "metadata": {},
   "outputs": [],
   "source": [
    "from sklearn.model_selection import train_test_split\n",
    "from sklearn.metrics import accuracy_score\n",
    "from sklearn.linear_model import LogisticRegression\n",
    "import matplotlib.pyplot as plt\n",
    "from sklearn.neighbors import KNeighborsClassifier \n",
    "from sklearn.tree import DecisionTreeClassifier"
   ]
  },
  {
   "cell_type": "code",
   "execution_count": 85,
   "metadata": {},
   "outputs": [],
   "source": [
    "# split data into training and testing sets\n",
    "path = \"./data/easy_ham/\"\n",
    "ham_emails = len([f for f in os.listdir(path) if os.path.isfile(os.path.join(path, f))])\n",
    "path = \"./data/hard_ham/\"\n",
    "ham_emails += len([f for f in os.listdir(path) if os.path.isfile(os.path.join(path, f))])\n",
    "path = \"./data/spam_2/\"\n",
    "spam_emails = len([f for f in os.listdir(path) if os.path.isfile(os.path.join(path, f))])"
   ]
  },
  {
   "cell_type": "code",
   "execution_count": 86,
   "metadata": {},
   "outputs": [
    {
     "name": "stdout",
     "output_type": "stream",
     "text": [
      "(4197, 3853) (4197,)\n"
     ]
    }
   ],
   "source": [
    "X = binary_features_vector \n",
    "y = np.array([0] * ham_emails + [1] * spam_emails) \n",
    "print(X.shape , y.shape)"
   ]
  },
  {
   "cell_type": "code",
   "execution_count": 87,
   "metadata": {},
   "outputs": [],
   "source": [
    "X_train, X_test, y_train, y_test = train_test_split(X, y, test_size=0.2, random_state=42)"
   ]
  },
  {
   "attachments": {},
   "cell_type": "markdown",
   "metadata": {},
   "source": [
    "## Logistic Regression"
   ]
  },
  {
   "cell_type": "code",
   "execution_count": 88,
   "metadata": {},
   "outputs": [
    {
     "name": "stdout",
     "output_type": "stream",
     "text": [
      "Accuracy for logistic regression : 0.9904761904761905\n"
     ]
    }
   ],
   "source": [
    "model = LogisticRegression()\n",
    "model.fit(X_train, y_train)\n",
    "\n",
    "y_pred = model.predict(X_test)\n",
    "\n",
    "accuracy = accuracy_score(y_test, y_pred)\n",
    "print(f'Accuracy for logistic regression : {accuracy}')"
   ]
  },
  {
   "cell_type": "code",
   "execution_count": 89,
   "metadata": {},
   "outputs": [
    {
     "name": "stdout",
     "output_type": "stream",
     "text": [
      "The email is predicted as ham.\n"
     ]
    }
   ],
   "source": [
    "with open('email_test.txt', 'r') as file:\n",
    "    email_text = file.read()\n",
    "\n",
    "preprocessed_email = normalize(email_text)\n",
    "# turn it into a dictionary\n",
    "email = {'text': preprocessed_email}\n",
    "\n",
    "email_features = extract_features(email, vocab_list, representation='binary')\n",
    "\n",
    "prediction = model.predict(email_features)\n",
    "\n",
    "if prediction == 1:\n",
    "    print('The email is predicted as spam.')\n",
    "else:\n",
    "    print('The email is predicted as ham.')"
   ]
  },
  {
   "attachments": {},
   "cell_type": "markdown",
   "metadata": {},
   "source": [
    "## confusion matrics "
   ]
  },
  {
   "cell_type": "code",
   "execution_count": 90,
   "metadata": {},
   "outputs": [
    {
     "name": "stdout",
     "output_type": "stream",
     "text": [
      "Matrice de confusion du modele regression logistique :\n",
      "[[586   7]\n",
      " [  1 246]]\n"
     ]
    }
   ],
   "source": [
    "from sklearn.metrics import confusion_matrix\n",
    "\n",
    "# Calculer la matrice de confusion sur l'ensemble de test\n",
    "confusion = confusion_matrix(y_test, y_pred)\n",
    "print('Matrice de confusion du modele regression logistique :')\n",
    "print(confusion)\n",
    "\n"
   ]
  },
  {
   "attachments": {},
   "cell_type": "markdown",
   "metadata": {},
   "source": [
    "## ROC Curve"
   ]
  },
  {
   "cell_type": "code",
   "execution_count": 91,
   "metadata": {},
   "outputs": [
    {
     "data": {
      "image/png": "[encoded data removed]",
      "text/plain": [
       "<Figure size 640x480 with 1 Axes>"
      ]
     },
     "metadata": {},
     "output_type": "display_data"
    }
   ],
   "source": [
    "from sklearn.metrics import roc_curve, auc\n",
    "import matplotlib.pyplot as plt\n",
    "\n",
    "# Calculer la probabilité de prédiction pour chaque exemple dans l'ensemble de test\n",
    "y_prob = model.predict_proba(X_test)[:, 1]\n",
    "\n",
    "# Calculer les taux de faux positifs, les taux de vrais positifs et les seuils à différents points de décision\n",
    "fpr, tpr, thresholds = roc_curve(y_test, y_prob)\n",
    "\n",
    "# Calculer la surface sous la courbe ROC (AUC)\n",
    "roc_auc = auc(fpr, tpr)\n",
    "\n",
    "# Tracer la courbe ROC\n",
    "plt.plot(fpr, tpr, label=f'AUC = {roc_auc:.2f}')\n",
    "plt.plot([0, 1], [0, 1], linestyle='--', color='gray')\n",
    "plt.xlabel('Taux de faux positifs')\n",
    "plt.ylabel('Taux de vrais positifs')\n",
    "plt.title('Courbe ROC pour la regression logistique')\n",
    "plt.legend()\n",
    "plt.show()\n"
   ]
  },
  {
   "attachments": {},
   "cell_type": "markdown",
   "metadata": {},
   "source": [
    "## KNN: "
   ]
  },
  {
   "cell_type": "code",
   "execution_count": 92,
   "metadata": {},
   "outputs": [
    {
     "name": "stdout",
     "output_type": "stream",
     "text": [
      "The accuracy for KNN is 0.9619047619047619\n"
     ]
    }
   ],
   "source": [
    "model = KNeighborsClassifier(5)\n",
    "model.fit(X_train,y_train)\n",
    "\n",
    "y_pred = model.predict(X_test)\n",
    "\n",
    "accuracy = accuracy_score(y_test,y_pred)\n",
    "print(f'The accuracy for KNN is {accuracy}')"
   ]
  },
  {
   "attachments": {},
   "cell_type": "markdown",
   "metadata": {},
   "source": [
    "## confusion Matrics"
   ]
  },
  {
   "cell_type": "code",
   "execution_count": 93,
   "metadata": {},
   "outputs": [
    {
     "name": "stdout",
     "output_type": "stream",
     "text": [
      "Matrice de confusion du modele KNN:\n",
      "[[585   8]\n",
      " [ 24 223]]\n"
     ]
    }
   ],
   "source": [
    "from sklearn.metrics import confusion_matrix\n",
    "\n",
    "# Calculate confusion matrix\n",
    "conf_mat = confusion_matrix(y_test, y_pred)\n",
    "\n",
    "# Print confusion matrix\n",
    "print('Matrice de confusion du modele KNN:')\n",
    "print(conf_mat)\n"
   ]
  },
  {
   "attachments": {},
   "cell_type": "markdown",
   "metadata": {},
   "source": [
    "## ROC Curve"
   ]
  },
  {
   "cell_type": "code",
   "execution_count": 94,
   "metadata": {},
   "outputs": [
    {
     "data": {
      "image/png": "[encoded data removed]",
      "text/plain": [
       "<Figure size 800x600 with 1 Axes>"
      ]
     },
     "metadata": {},
     "output_type": "display_data"
    }
   ],
   "source": [
    "y_prob = model.predict_proba(X_test)[:,1]\n",
    "\n",
    "fpr, tpr, thresholds = roc_curve(y_test, y_prob)\n",
    "roc_auc = auc(fpr, tpr)\n",
    "\n",
    "plt.figure(figsize=(8, 6))\n",
    "plt.plot(fpr, tpr, label='ROC curve (area = %0.2f)' % roc_auc)\n",
    "plt.plot([0, 1], [0, 1], 'k--')\n",
    "plt.xlim([0.0, 1.0])\n",
    "plt.ylim([0.0, 1.05])\n",
    "plt.xlabel('Taux de faux positifs')\n",
    "plt.ylabel('Taux de vrais positifs')\n",
    "plt.title('La courbe ROC pour (KNN)')\n",
    "plt.legend(loc=\"lower right\")\n",
    "plt.show()\n"
   ]
  },
  {
   "attachments": {},
   "cell_type": "markdown",
   "metadata": {},
   "source": [
    "## Decision Tree"
   ]
  },
  {
   "cell_type": "code",
   "execution_count": 95,
   "metadata": {},
   "outputs": [
    {
     "name": "stdout",
     "output_type": "stream",
     "text": [
      "The accuracy for decsion tree is : 0.9607142857142857\n"
     ]
    }
   ],
   "source": [
    "clf = DecisionTreeClassifier(max_depth= 5 , random_state= 42)\n",
    "\n",
    "clf.fit(X_train , y_train)\n",
    "\n",
    "y_pred = clf.predict(X_test)\n",
    "\n",
    "accuracy = accuracy_score(y_test, y_pred)\n",
    "print(f'The accuracy for decsion tree is : {accuracy}')"
   ]
  },
  {
   "attachments": {},
   "cell_type": "markdown",
   "metadata": {},
   "source": [
    "## Confusion Matrics"
   ]
  },
  {
   "cell_type": "code",
   "execution_count": 96,
   "metadata": {},
   "outputs": [
    {
     "name": "stdout",
     "output_type": "stream",
     "text": [
      "Matrice de confusion du modele Arbre de decision :\n",
      " [[577  16]\n",
      " [ 17 230]]\n"
     ]
    }
   ],
   "source": [
    "# Matrice de confusion\n",
    "cm = confusion_matrix(y_test, y_pred)\n",
    "print(\"Matrice de confusion du modele Arbre de decision :\\n\", cm)"
   ]
  },
  {
   "attachments": {},
   "cell_type": "markdown",
   "metadata": {},
   "source": [
    "## ROC Curve"
   ]
  },
  {
   "cell_type": "code",
   "execution_count": 97,
   "metadata": {},
   "outputs": [
    {
     "data": {
      "image/png": "[encoded data removed]",
      "text/plain": [
       "<Figure size 600x600 with 1 Axes>"
      ]
     },
     "metadata": {},
     "output_type": "display_data"
    }
   ],
   "source": [
    "import matplotlib.pyplot as plt\n",
    "from sklearn.metrics import roc_curve, auc\n",
    "\n",
    "probas = clf.predict_proba(X_test)\n",
    "fpr, tpr, thresholds = roc_curve(y_test, probas[:, 1])\n",
    "roc_auc = auc(fpr, tpr)\n",
    "\n",
    "plt.figure(figsize=(6, 6))\n",
    "plt.plot(fpr, tpr, color='darkorange', lw=2, label='ROC curve (AUC = %0.2f)' % roc_auc)\n",
    "plt.plot([0, 1], [0, 1], color='navy', lw=2, linestyle='--')\n",
    "plt.xlim([0.0, 1.0])\n",
    "plt.ylim([0.0, 1.05])\n",
    "plt.xlabel('Taux de faux positifs')\n",
    "plt.ylabel('Taux de vrais positifs')\n",
    "plt.title('La courbe ROC pour l arbre de décision')\n",
    "plt.legend(loc=\"lower right\")\n",
    "plt.show()\n"
   ]
  }
 ],
 "metadata": {
  "kernelspec": {
   "display_name": "Python 3 (ipykernel)",
   "language": "python",
   "name": "python3"
  },
  "language_info": {
   "codemirror_mode": {
    "name": "ipython",
    "version": 3
   },
   "file_extension": ".py",
   "mimetype": "text/x-python",
   "name": "python",
   "nbconvert_exporter": "python",
   "pygments_lexer": "ipython3",
   "version": "3.9.13"
  }
 },
 "nbformat": 4,
 "nbformat_minor": 2
}
